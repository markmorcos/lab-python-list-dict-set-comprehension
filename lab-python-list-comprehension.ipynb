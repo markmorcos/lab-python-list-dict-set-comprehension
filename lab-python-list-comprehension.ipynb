{
 "cells": [
  {
   "cell_type": "markdown",
   "id": "25d7736c-ba17-4aff-b6bb-66eba20fbf4e",
   "metadata": {},
   "source": [
    "# Lab | List, Dict and Set Comprehension"
   ]
  },
  {
   "cell_type": "markdown",
   "id": "7dd3cbde-675a-4b81-92c3-f728846dbe06",
   "metadata": {},
   "source": [
    "## Exercise: Managing Customer Orders Optimized with Comprehension"
   ]
  },
  {
   "cell_type": "markdown",
   "id": "5d500160-2fb7-4777-b5e4-09d45ebaf328",
   "metadata": {},
   "source": [
    "In the previous exercise, you developed a program to manage customer orders and inventory. Now, let's take it a step further and incorporate comprehension into your code.\n",
    "\n",
    "Follow the steps below to complete the exercise:\n",
    "\n",
    "1. Review your code from the previous exercise and identify areas where you can apply comprehension to simplify and streamline your code. \n",
    "\n",
    "    - *Hint: Apply it to initialize inventory, updating the inventory and printing the updated inventory.*\n",
    "    \n",
    "    - For example, in initializing the inventory, we could have:\n",
    "    \n",
    "        ```python\n",
    "        def initialize_inventory(products):\n",
    "            inventory = {product: int(input(f\"Enter the quantity of {product}s available: \")) for product in products}\n",
    "            return inventory\n",
    "\n",
    "        ```\n",
    "<br>\n",
    "    \n",
    "    \n",
    "2. Modify the function get_customer_orders so it prompts the user to enter the number of customer orders and gathers the product names using a loop and user input. Use comprehension.\n",
    "\n",
    "3. Add a new function to calculate the total price of the customer order. For each product in customer_orders, prompt the user to enter the price of that product. Use comprehension to calculate the total price. Note: assume that the user can only have 1 unit of each product.\n",
    "\n",
    "4. Modify the update_inventory function to remove the product from the inventory if its quantity becomes zero after fulfilling the customer orders. Use comprehension to filter out the products with a quantity of zero from the inventory.\n",
    "\n",
    "5. Print the total price of the customer order.\n",
    "\n",
    "Your code should produce output similar to the following:\n",
    "\n",
    "```python\n",
    "Enter the quantity of t-shirts available:  5\n",
    "Enter the quantity of mugs available:  4\n",
    "Enter the quantity of hats available:  3\n",
    "Enter the quantity of books available:  2\n",
    "Enter the quantity of keychains available:  1\n",
    "Enter the number of customer orders:  2\n",
    "Enter the name of a product that a customer wants to order:  hat\n",
    "Enter the name of a product that a customer wants to order:  keychain\n",
    "\n",
    "Order Statistics:\n",
    "Total Products Ordered: 2\n",
    "Percentage of Unique Products Ordered: 40.0\n",
    "\n",
    "Updated Inventory:\n",
    "t-shirt: 5\n",
    "mug: 4\n",
    "hat: 2\n",
    "book: 2\n",
    "Enter the price of keychain:  5\n",
    "Enter the price of hat:  10\n",
    "Total Price: 15.0\n",
    "\n",
    "```\n"
   ]
  },
  {
   "cell_type": "code",
   "execution_count": 5,
   "id": "107fef35-eeb0-4b7e-ad48-625d277701c2",
   "metadata": {},
   "outputs": [],
   "source": [
    "# 1.\n",
    "def initialize_inventory(products):\n",
    "    inventory = { product: int(input(f\"Enter the quantity of {product}s available:\")) for product in products }\n",
    "    return inventory"
   ]
  },
  {
   "cell_type": "code",
   "execution_count": 6,
   "id": "a2c66151-6452-4106-85a1-da1a2789acd1",
   "metadata": {},
   "outputs": [],
   "source": [
    "# 2.\n",
    "def get_customer_orders():\n",
    "    number_of_orders = int(input(\"Enter the number of customer orders:\"))\n",
    "    return { input(\"Enter the name of a product that a customer wants to order:\") for _ in range(number_of_orders) }"
   ]
  },
  {
   "cell_type": "code",
   "execution_count": 7,
   "id": "408b5b9e-1404-429a-95ec-a93225d1bc60",
   "metadata": {},
   "outputs": [],
   "source": [
    "# 3.\n",
    "def update_inventory(customer_orders, inventory):\n",
    "    updated_inventory = { product: quantity - 1 if product in customer_orders else quantity for (product, quantity) in inventory.items() }\n",
    "    return { product: quantity for (product, quantity) in updated_inventory.items() if quantity > 0 }"
   ]
  },
  {
   "cell_type": "code",
   "execution_count": 8,
   "id": "4826cf12-e535-4dbf-8773-214ee2fc3004",
   "metadata": {},
   "outputs": [],
   "source": [
    "# 4.\n",
    "def calculate_order_statistics(customer_orders, products):\n",
    "    total_products_ordered = len(customer_orders)\n",
    "    total_products = len(products)\n",
    "    products_ordered_percentage = 100 * total_products_ordered / total_products\n",
    "    return (total_products_ordered, products_ordered_percentage)"
   ]
  },
  {
   "cell_type": "code",
   "execution_count": 9,
   "id": "2965178f-9635-4bbf-9791-3a8e66dab108",
   "metadata": {},
   "outputs": [],
   "source": [
    "# 5.\n",
    "def print_order_statistics(order_status):\n",
    "    print(\"Order Statistics:\")\n",
    "    print(f\"Total Products Ordered: {order_status[0]}\")\n",
    "    print(f\"Percentage of Products Ordered: {round(order_status[1], 2)}%\")"
   ]
  },
  {
   "cell_type": "code",
   "execution_count": 10,
   "id": "0504c042-92ab-41a4-b0e8-9f526253e3a2",
   "metadata": {},
   "outputs": [],
   "source": [
    "# 6.\n",
    "def print_updated_inventory(inventory):\n",
    "    print(\"Inventory:\")\n",
    "    for (product, quantity) in inventory.items():\n",
    "        print(f\"{product}: {quantity}\")"
   ]
  },
  {
   "cell_type": "code",
   "execution_count": 11,
   "id": "ae79dfa7-95b3-40ae-99ce-9867d9cec0bd",
   "metadata": {},
   "outputs": [],
   "source": [
    "# 7.\n",
    "def get_order_prices(customer_orders):\n",
    "    return sum([int(input(f\"Enter the price of {order}\")) for order in customer_orders])"
   ]
  },
  {
   "cell_type": "code",
   "execution_count": 12,
   "id": "dd7a1f68-8b8f-4065-a610-253182e11c41",
   "metadata": {},
   "outputs": [],
   "source": [
    "def print_total_price(total_price):\n",
    "    print(f\"Total Price: {total_price}\")"
   ]
  },
  {
   "cell_type": "code",
   "execution_count": 13,
   "id": "23931f02-11aa-49ec-9369-e8e0f940996a",
   "metadata": {},
   "outputs": [
    {
     "name": "stdin",
     "output_type": "stream",
     "text": [
      "Enter the quantity of t-shirts available: 5\n",
      "Enter the quantity of mugs available: 4\n",
      "Enter the quantity of hats available: 3\n",
      "Enter the quantity of books available: 2\n",
      "Enter the quantity of keychains available: 1\n"
     ]
    }
   ],
   "source": [
    "# 8.\n",
    "products = [\"t-shirt\", \"mug\", \"hat\", \"book\", \"keychain\"]\n",
    "inventory = initialize_inventory(products)"
   ]
  },
  {
   "cell_type": "code",
   "execution_count": 14,
   "id": "06c6c27a-d231-44fd-95a4-c0fd9ee67640",
   "metadata": {},
   "outputs": [
    {
     "name": "stdin",
     "output_type": "stream",
     "text": [
      "Enter the number of customer orders: 2\n",
      "Enter the name of a product that a customer wants to order: hat\n",
      "Enter the name of a product that a customer wants to order: keychain\n"
     ]
    }
   ],
   "source": [
    "# 9.\n",
    "customer_orders = get_customer_orders()"
   ]
  },
  {
   "cell_type": "code",
   "execution_count": 15,
   "id": "a91109d2-1607-420a-b78d-09e7c59b6c5f",
   "metadata": {},
   "outputs": [
    {
     "name": "stdout",
     "output_type": "stream",
     "text": [
      "Order Statistics:\n",
      "Total Products Ordered: 2\n",
      "Percentage of Products Ordered: 40.0%\n",
      "\n",
      "Inventory:\n",
      "t-shirt: 5\n",
      "mug: 4\n",
      "hat: 2\n",
      "book: 2\n",
      "\n"
     ]
    },
    {
     "name": "stdin",
     "output_type": "stream",
     "text": [
      "Enter the price of keychain 5\n",
      "Enter the price of hat 10\n"
     ]
    },
    {
     "name": "stdout",
     "output_type": "stream",
     "text": [
      "Total Price: 15\n"
     ]
    }
   ],
   "source": [
    "# 10.\n",
    "\n",
    "order_status = calculate_order_statistics(customer_orders, products)\n",
    "print_order_statistics(order_status)\n",
    "print()\n",
    "\n",
    "updated_inventory = update_inventory(customer_orders, inventory)\n",
    "print_updated_inventory(updated_inventory)\n",
    "print()\n",
    "\n",
    "total_price = get_order_prices(customer_orders)\n",
    "print_total_price(total_price)"
   ]
  }
 ],
 "metadata": {
  "kernelspec": {
   "display_name": "Python 3 (ipykernel)",
   "language": "python",
   "name": "python3"
  },
  "language_info": {
   "codemirror_mode": {
    "name": "ipython",
    "version": 3
   },
   "file_extension": ".py",
   "mimetype": "text/x-python",
   "name": "python",
   "nbconvert_exporter": "python",
   "pygments_lexer": "ipython3",
   "version": "3.12.4"
  }
 },
 "nbformat": 4,
 "nbformat_minor": 5
}
